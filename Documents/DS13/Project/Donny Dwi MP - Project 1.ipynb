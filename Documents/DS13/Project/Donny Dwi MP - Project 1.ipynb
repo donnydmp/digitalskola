{
  "nbformat": 4,
  "nbformat_minor": 0,
  "metadata": {
    "colab": {
      "name": "Donny Dwi MP - Project Implementation 1.ipynb",
      "provenance": [],
      "collapsed_sections": []
    },
    "kernelspec": {
      "name": "python3",
      "display_name": "Python 3"
    },
    "language_info": {
      "name": "python"
    }
  },
  "cells": [
    {
      "cell_type": "code",
      "source": [
        "import pandas as pd\n",
        "import numpy as np\n"
      ],
      "metadata": {
        "id": "aF2BIIBSHGeX"
      },
      "execution_count": 1,
      "outputs": []
    },
    {
      "cell_type": "code",
      "source": [
        "data = pd.read_csv('/content/drive/MyDrive/DiSkola/student-math.csv')\n"
      ],
      "metadata": {
        "id": "xSw1oZkaHYAo"
      },
      "execution_count": 4,
      "outputs": []
    },
    {
      "cell_type": "code",
      "source": [
        "data.columns"
      ],
      "metadata": {
        "colab": {
          "base_uri": "https://localhost:8080/"
        },
        "id": "OP-szyGzNx42",
        "outputId": "94ee429f-4b6a-4441-a15b-b34243e6c327"
      },
      "execution_count": 5,
      "outputs": [
        {
          "output_type": "execute_result",
          "data": {
            "text/plain": [
              "Index(['school', 'sex', 'age', 'address', 'famsize', 'Pstatus', 'Medu', 'Fedu',\n",
              "       'Mjob', 'Fjob', 'reason', 'guardian', 'traveltime', 'studytime',\n",
              "       'failures', 'schoolsup', 'famsup', 'paid', 'activities', 'nursery',\n",
              "       'higher', 'internet', 'freetime', 'goout', 'Dalc', 'absences', 'G1',\n",
              "       'G2', 'G3'],\n",
              "      dtype='object')"
            ]
          },
          "metadata": {},
          "execution_count": 5
        }
      ]
    },
    {
      "cell_type": "markdown",
      "source": [
        "## 1. Nilai rata-rata akhir (G3) semua murid di sekolah “GP”"
      ],
      "metadata": {
        "id": "XgB3wguigzl8"
      }
    },
    {
      "cell_type": "code",
      "source": [
        "result = data[data['school'] == 'GP']['G3'].mean()\n",
        "print('Nilai rata akhir(G3) semua murid GP adalah =', result)"
      ],
      "metadata": {
        "colab": {
          "base_uri": "https://localhost:8080/"
        },
        "id": "BCtCqJMugwOE",
        "outputId": "75eb98b6-227d-4077-9195-16d2f7ab4580"
      },
      "execution_count": 6,
      "outputs": [
        {
          "output_type": "stream",
          "name": "stdout",
          "text": [
            "Nilai rata akhir(G3) semua murid GP adalah = 10.489971346704872\n"
          ]
        }
      ]
    },
    {
      "cell_type": "markdown",
      "source": [
        "##2. Nilai min dan max (G3) dari murid-murid di sekolah “MS”"
      ],
      "metadata": {
        "id": "JqfHXrDKicM6"
      }
    },
    {
      "cell_type": "code",
      "source": [
        "nMin = data[data['school'] == 'MS']['G3'].min()\n",
        "nMax = data[data['school'] == 'MS']['G3'].max()\n",
        "\n",
        "print('Nilai min (G3) dari murid-murid di sekolah MS =', nMin)\n",
        "print('Nilai max (G3) dari murid-murid di sekolah MS =', nMax)"
      ],
      "metadata": {
        "colab": {
          "base_uri": "https://localhost:8080/"
        },
        "id": "uHyG0JMmilIc",
        "outputId": "f6a76730-e161-4b1a-e9ff-89054757bb65"
      },
      "execution_count": 7,
      "outputs": [
        {
          "output_type": "stream",
          "name": "stdout",
          "text": [
            "Nilai min (G3) dari murid-murid di sekolah MS = 0\n",
            "Nilai max (G3) dari murid-murid di sekolah MS = 19\n"
          ]
        }
      ]
    },
    {
      "cell_type": "markdown",
      "source": [
        "##3. Proporsi jenis kelamin dari murid-murid"
      ],
      "metadata": {
        "id": "H2E0X4XRjv2d"
      }
    },
    {
      "cell_type": "code",
      "source": [
        "result = data['sex'].value_counts() / len(data) * 100\n",
        "print('Proporsi jenis kelamin dari murid-murid adalah :\\n',result)"
      ],
      "metadata": {
        "colab": {
          "base_uri": "https://localhost:8080/"
        },
        "id": "OZW-G9oZWNKK",
        "outputId": "10533e97-792c-4d3a-9e73-15fe9867fb18"
      },
      "execution_count": 8,
      "outputs": [
        {
          "output_type": "stream",
          "name": "stdout",
          "text": [
            "Proporsi jenis kelamin dari murid-murid adalah :\n",
            " F    52.658228\n",
            "M    47.341772\n",
            "Name: sex, dtype: float64\n"
          ]
        }
      ]
    },
    {
      "cell_type": "markdown",
      "source": [
        "##4. Rata-rata final grade (G3) sesuai dengan study time"
      ],
      "metadata": {
        "id": "9Gcl7GTqkdZf"
      }
    },
    {
      "cell_type": "code",
      "source": [
        "data.groupby('studytime')['G3'].mean()"
      ],
      "metadata": {
        "colab": {
          "base_uri": "https://localhost:8080/"
        },
        "id": "X7f2fOL2kZBz",
        "outputId": "a4a756f5-8c62-41f7-d8b2-dc2ea616f067"
      },
      "execution_count": 9,
      "outputs": [
        {
          "output_type": "execute_result",
          "data": {
            "text/plain": [
              "studytime\n",
              "1    10.047619\n",
              "2    10.171717\n",
              "3    11.400000\n",
              "4    11.259259\n",
              "Name: G3, dtype: float64"
            ]
          },
          "metadata": {},
          "execution_count": 9
        }
      ]
    },
    {
      "cell_type": "markdown",
      "source": [
        "##5. Rata-rata final grade (G3) sesuai dengan extra educational support"
      ],
      "metadata": {
        "id": "yd5IHBKvk0zk"
      }
    },
    {
      "cell_type": "code",
      "source": [
        "data.groupby('schoolsup')['G3'].mean()"
      ],
      "metadata": {
        "colab": {
          "base_uri": "https://localhost:8080/"
        },
        "id": "SSI0m7B3k4r6",
        "outputId": "afbfac50-8dcc-42a6-8c8b-d2e163708af9"
      },
      "execution_count": 10,
      "outputs": [
        {
          "output_type": "execute_result",
          "data": {
            "text/plain": [
              "schoolsup\n",
              "no     10.561047\n",
              "yes     9.431373\n",
              "Name: G3, dtype: float64"
            ]
          },
          "metadata": {},
          "execution_count": 10
        }
      ]
    },
    {
      "cell_type": "markdown",
      "source": [
        ""
      ],
      "metadata": {
        "id": "Wnd4sTfCkYtd"
      }
    }
  ]
}